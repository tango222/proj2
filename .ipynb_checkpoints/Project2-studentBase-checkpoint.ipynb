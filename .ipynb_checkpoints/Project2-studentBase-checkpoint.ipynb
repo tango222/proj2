{
 "cells": [
  {
   "cell_type": "markdown",
   "metadata": {},
   "source": [
    "# Querying MIMIC\n",
    "\n",
    "#### BIME 498, Special Topics - SPR 2019\n",
    "#### Exploring the Multi-parameter Intelligent Monitoring in Intensive Care (MIMIC) database.\n",
    "\n",
    "\n",
    "This tutorial walks through simply querying in MIMIC using Jupyter Notebook as the primary database interface instead of pgadmin4.  This was done to smooth the process of data processing and machine learning exercises, so that we wouldn't have to separately log in, query MIMIC in pgadmin4, download each query as a CSV, and subsequently upload CSV files into panda dataframes.  The tutorial assumes some prerequisites:\n",
    "\n",
    "1) You should have already installed Python via Anachonda.\n",
    "\n",
    "2) You should already have postgreSQL 10.6, 11.1 downloaded.  \n",
    "\n",
    "3) You should be connected to the remote database through the ssh tunnel in git bash.  \n",
    "\n",
    "4) You should have installed pandas for data management purposes.\n",
    "\n",
    "5) You should have installed numpy for statistical programming requirements.\n",
    "\n",
    "6) You should have installed psycopg2 to communicate with postgres.\n",
    "\n",
    "7) You should have completed all required CITI PROGRAM training modules to access to MIMIC data."
   ]
  },
  {
   "cell_type": "markdown",
   "metadata": {},
   "source": [
    "Import the appropriate libraries:"
   ]
  },
  {
   "cell_type": "code",
   "execution_count": 2,
   "metadata": {},
   "outputs": [],
   "source": [
    "import numbers\n",
    "import numpy as np\n",
    "import pandas as pd\n",
    "import psycopg2 as ps\n",
    "from matplotlib import pyplot as plt"
   ]
  },
  {
   "cell_type": "markdown",
   "metadata": {},
   "source": [
    "Connect to the database, with the following parameters.  Remember, you must first connect through the SSH tunnel; otherwise the connection will fail and you will see an error message."
   ]
  },
  {
   "cell_type": "code",
   "execution_count": 4,
   "metadata": {},
   "outputs": [],
   "source": [
    "param = { \n",
    "    'host':'127.0.0.1',\n",
    "    'port' : '5432',\n",
    "    'dbname' : 'mimic_iii',\n",
    "    'user' : 'mimic_ro',\n",
    "    'password' : 'uj3&24rSD%$F'\n",
    "}\n",
    "\n",
    "try:\n",
    "    conn = ps.connect(**param)    \n",
    "except (Exception, ps.DatabaseError) as error:\n",
    "    print(error)\n",
    "\n",
    "cur = conn.cursor()"
   ]
  },
  {
   "cell_type": "markdown",
   "metadata": {},
   "source": [
    "##  Getting started with MIMIC tables\n",
    "\n",
    "There're two ways to select columns depending on your comfort with SQL querying syntax or Pandas. You could `SELECT` particular columns in the query itself, or you could elect to drop columns once the data has been read into a Pandas dataframe using `read_sql_query()` and `drop()`.  \n",
    "\n",
    "In the event that you want to check your work and print the table you've manipulated, it is recommended that you set a row `LIMIT` in the query to prevent hundreds of thousands of rows of data from crashing your notebook. In the example below, only the first 10 rows have been imported to the dataframe."
   ]
  },
  {
   "cell_type": "code",
   "execution_count": 6,
   "metadata": {},
   "outputs": [
    {
     "name": "stdout",
     "output_type": "stream",
     "text": [
      "     row_id  subject_id  hadm_id  icustay_id  itemid           charttime  \\\n",
      "0  34309354           4   185777      294638      84 2191-03-16 08:00:00   \n",
      "1  34309355           4   185777      294638      85 2191-03-16 08:00:00   \n",
      "2  34309356           4   185777      294638      86 2191-03-16 08:00:00   \n",
      "3  34309357           4   185777      294638      87 2191-03-16 08:00:00   \n",
      "4  34309358           4   185777      294638      88 2191-03-16 08:00:00   \n",
      "5  34334388          13   143045      263738      52 2167-01-10 08:30:00   \n",
      "6  34334389          13   143045      263738      55 2167-01-10 08:30:00   \n",
      "7  34334390          13   143045      263738      59 2167-01-10 08:30:00   \n",
      "8  34334391          13   143045      263738      62 2167-01-10 08:30:00   \n",
      "9  34334392          13   143045      263738     113 2167-01-10 08:30:00   \n",
      "\n",
      "            storetime   cgid             value  valuenum valueuom warning  \\\n",
      "0 2191-03-16 09:16:00  18692       Sl. Limited       NaN     None    None   \n",
      "1 2191-03-16 09:16:00  18692        Occ. Moist       NaN     None    None   \n",
      "2 2191-03-16 09:16:00  18692  Prob. Inadequate       NaN     None    None   \n",
      "3 2191-03-16 09:16:00  18692                16      16.0   number    None   \n",
      "4 2191-03-16 09:16:00  18692     No Impairment       NaN     None    None   \n",
      "5 2167-01-10 08:28:00  20670                84      84.0     mmHg    None   \n",
      "6 2167-01-10 08:28:00  20670               102     102.0     mmHg    None   \n",
      "7 2167-01-10 08:28:00  20670               102     102.0     mmHg    None   \n",
      "8 2167-01-10 08:28:00  20670                51      51.0     mmHg    None   \n",
      "9 2167-01-10 08:28:00  20670                 8       8.0     mmHg    None   \n",
      "\n",
      "  error resultstatus   stopped  \n",
      "0  None         None  NotStopd  \n",
      "1  None         None  NotStopd  \n",
      "2  None         None  NotStopd  \n",
      "3  None         None  NotStopd  \n",
      "4  None         None  NotStopd  \n",
      "5  None         None  NotStopd  \n",
      "6  None         None  NotStopd  \n",
      "7  None         None  NotStopd  \n",
      "8  None         None  NotStopd  \n",
      "9  None         None  NotStopd  \n"
     ]
    }
   ],
   "source": [
    "sql_1 = \"SELECT * FROM mimic_iii.chartevents LIMIT 10\"\n",
    "chartevents = pd.read_sql_query(sql_1, conn)\n",
    "print(chartevents)"
   ]
  },
  {
   "cell_type": "markdown",
   "metadata": {},
   "source": [
    "## 1a. Admissions criteria\n",
    "\n",
    "Find cause for admissions to the ICU with a simple word counter. If you need help using the admissions table, go to: https://mimic.physionet.org/mimictables/admissions/."
   ]
  },
  {
   "cell_type": "code",
   "execution_count": 8,
   "metadata": {},
   "outputs": [],
   "source": [
    "# your answer here"
   ]
  },
  {
   "cell_type": "markdown",
   "metadata": {},
   "source": [
    "You now have an idea of the diverse spread of the reason for patient's admittance. Let's get more specific.\n",
    "\n",
    "The opioid crisis has been rampant, and commands particular salience in today's news.  What percentage of people were admitted for overdoses. Is the number what you might expect? Can you hypothesize why this percentage might be so low or high? "
   ]
  },
  {
   "cell_type": "code",
   "execution_count": 9,
   "metadata": {},
   "outputs": [],
   "source": [
    "# your answer here"
   ]
  },
  {
   "cell_type": "markdown",
   "metadata": {},
   "source": [
    "## 1b. What does Admissions table say about death?\n",
    "\n",
    "Again, observe the column titles associated with the Admissions table.  Find the frequency of ICU deaths as a percentage of total ICU admittance."
   ]
  },
  {
   "cell_type": "code",
   "execution_count": 10,
   "metadata": {},
   "outputs": [],
   "source": [
    "# your answer here"
   ]
  },
  {
   "cell_type": "markdown",
   "metadata": {},
   "source": [
    "## 2. Diagnoses\n",
    "\n",
    "Billable diagnoses are recorded according to ICD9 codes, which specify different disease on a coded basis. (Healthcare currently uses ICD10, but at the time of the MIMIC data, ICD9 was used. Do not confuse ICD10 with ICD9!) A quick Google search should give you a good idea of how the ICD9 codes are organized. For starters, V codes are for diagnoses unrelated to an underlying disease or disorder; E codes are for diagnoses with an environmental cause. All other codes are purely numerical. For a quick rundown of the diagnoses table in MIMIC, go to: https://mimic.physionet.org/mimictables/diagnoses_icd/\n",
    "\n",
    "Look up the ICD9 code conventions and design a method to count codes, and therefore diagnosis frequency. As a warning, the Mimic database converts the usual ICD9 codes into integers. Thus, \"401.9\", for hypertension, becomes \"4019\". \n",
    "\n",
    "Provide a list of the top ten ICD9 codes, and their count (the number of patients with this diagnosis). "
   ]
  },
  {
   "cell_type": "code",
   "execution_count": 13,
   "metadata": {},
   "outputs": [],
   "source": [
    "# your answer here"
   ]
  },
  {
   "cell_type": "markdown",
   "metadata": {},
   "source": [
    "According to the data above, what is the number one diagnosis made upon ICU admittance?  How many people are coming in with diabetes?"
   ]
  },
  {
   "cell_type": "code",
   "execution_count": 14,
   "metadata": {},
   "outputs": [],
   "source": [
    "# your answer here"
   ]
  },
  {
   "cell_type": "markdown",
   "metadata": {},
   "source": [
    "## 3. Medications (Prescriptions)\n",
    "\n",
    "What medications are patients given who share a diagnosis? For example, how often do hypertension patients also take insulin? (which would mean that they are also diabetic!) In addition, how similar are the top 10 medications for patients with the same diagnosis (you would expect some level of consistency, if physicians are treating the same disease in the same way). In the Mimic database, we have a table of prescriptions, (https://mimic.physionet.org/mimictables/prescriptions/) which will use as a proxy for the medications the patient is taking. \n",
    "\n",
    "To carry out these queries, you'll need to use tables that have prescriptions as well as the ICD9 diagnosis table. You should choose which disease / diagnosis you will inspect: Please use one of these three: Diabetes, Hypertension, or Heart disease. For your disease, print out the top 20 prescriptions. Also, you must indicate what percentage of patients had each of these prescriptions. (E.g., a large percentage of diabetes patients will have insulin prescribed. But does the data show 80%? 95%? 99%?)\n"
   ]
  },
  {
   "cell_type": "code",
   "execution_count": 14,
   "metadata": {},
   "outputs": [],
   "source": [
    "# your answer here"
   ]
  },
  {
   "cell_type": "markdown",
   "metadata": {},
   "source": [
    "## 4. Open choice query\n",
    "\n",
    "See directions in the assignment specification. Explain your query (briefly) in this mark-down cell, and provide your answer below.  "
   ]
  },
  {
   "cell_type": "code",
   "execution_count": null,
   "metadata": {},
   "outputs": [],
   "source": [
    "# youe answer here"
   ]
  },
  {
   "cell_type": "markdown",
   "metadata": {},
   "source": [
    "## Close the connection\n",
    "\n",
    "Once you're done with your work, close the connection to the database, and remember to save your work!"
   ]
  },
  {
   "cell_type": "code",
   "execution_count": null,
   "metadata": {},
   "outputs": [],
   "source": [
    "cur.close()\n",
    "conn.close()"
   ]
  }
 ],
 "metadata": {
  "kernelspec": {
   "display_name": "Python 3",
   "language": "python",
   "name": "python3"
  },
  "language_info": {
   "codemirror_mode": {
    "name": "ipython",
    "version": 3
   },
   "file_extension": ".py",
   "mimetype": "text/x-python",
   "name": "python",
   "nbconvert_exporter": "python",
   "pygments_lexer": "ipython3",
   "version": "3.7.0"
  }
 },
 "nbformat": 4,
 "nbformat_minor": 2
}
