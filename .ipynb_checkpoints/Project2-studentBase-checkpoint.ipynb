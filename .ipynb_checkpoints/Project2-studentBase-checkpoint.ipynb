{
 "cells": [
  {
   "cell_type": "markdown",
   "metadata": {},
   "source": [
    "# Querying MIMIC\n",
    "\n",
    "#### BIME 498, Special Topics - SPR 2019\n",
    "#### Exploring the Multi-parameter Intelligent Monitoring in Intensive Care (MIMIC) database.\n",
    "\n",
    "\n",
    "This tutorial walks through simply querying in MIMIC using Jupyter Notebook as the primary database interface instead of pgadmin4.  This was done to smooth the process of data processing and machine learning exercises, so that we wouldn't have to separately log in, query MIMIC in pgadmin4, download each query as a CSV, and subsequently upload CSV files into panda dataframes.  The tutorial assumes some prerequisites:\n",
    "\n",
    "1) You should have already installed Python via Anachonda.\n",
    "\n",
    "2) You should already have postgreSQL 10.6, 11.1 downloaded.  \n",
    "\n",
    "3) You should be connected to the remote database through the ssh tunnel in git bash.  \n",
    "\n",
    "4) You should have installed pandas for data management purposes.\n",
    "\n",
    "5) You should have installed numpy for statistical programming requirements.\n",
    "\n",
    "6) You should have installed psycopg2 to communicate with postgres.\n",
    "\n",
    "7) You should have completed all required CITI PROGRAM training modules to access to MIMIC data."
   ]
  },
  {
   "cell_type": "markdown",
   "metadata": {},
   "source": [
    "Import the appropriate libraries:"
   ]
  },
  {
   "cell_type": "code",
   "execution_count": 1,
   "metadata": {},
   "outputs": [],
   "source": [
    "import numbers\n",
    "import numpy as np\n",
    "import pandas as pd\n",
    "import psycopg2 as ps\n",
    "from matplotlib import pyplot as plt"
   ]
  },
  {
   "cell_type": "markdown",
   "metadata": {},
   "source": [
    "Connect to the database, with the following parameters.  Remember, you must first connect through the SSH tunnel; otherwise the connection will fail and you will see an error message."
   ]
  },
  {
   "cell_type": "code",
   "execution_count": 11,
   "metadata": {},
   "outputs": [],
   "source": [
    "param = { \n",
    "    'host':'127.0.0.1',\n",
    "    'port' : '5432',\n",
    "    'dbname' : 'mimic_iii',\n",
    "    'user' : 'mimic_ro',\n",
    "    'password' : 'uj3&24rSD%$F'\n",
    "}\n",
    "\n",
    "try:\n",
    "    conn = ps.connect(**param)    \n",
    "except (Exception, ps.DatabaseError) as error:\n",
    "    print(error)\n",
    "\n",
    "cur = conn.cursor()"
   ]
  },
  {
   "cell_type": "markdown",
   "metadata": {},
   "source": [
    "##  Getting started with MIMIC tables\n",
    "\n",
    "There're two ways to select columns depending on your comfort with SQL querying syntax or Pandas. You could `SELECT` particular columns in the query itself, or you could elect to drop columns once the data has been read into a Pandas dataframe using `read_sql_query()` and `drop()`.  \n",
    "\n",
    "In the event that you want to check your work and print the table you've manipulated, it is recommended that you set a row `LIMIT` in the query to prevent hundreds of thousands of rows of data from crashing your notebook. In the example below, only the first 10 rows have been imported to the dataframe."
   ]
  },
  {
   "cell_type": "code",
   "execution_count": 4,
   "metadata": {},
   "outputs": [
    {
     "data": {
      "text/html": [
       "<div>\n",
       "<style scoped>\n",
       "    .dataframe tbody tr th:only-of-type {\n",
       "        vertical-align: middle;\n",
       "    }\n",
       "\n",
       "    .dataframe tbody tr th {\n",
       "        vertical-align: top;\n",
       "    }\n",
       "\n",
       "    .dataframe thead th {\n",
       "        text-align: right;\n",
       "    }\n",
       "</style>\n",
       "<table border=\"1\" class=\"dataframe\">\n",
       "  <thead>\n",
       "    <tr style=\"text-align: right;\">\n",
       "      <th></th>\n",
       "      <th>row_id</th>\n",
       "      <th>icd9_code</th>\n",
       "      <th>short_title</th>\n",
       "      <th>long_title</th>\n",
       "    </tr>\n",
       "  </thead>\n",
       "  <tbody>\n",
       "    <tr>\n",
       "      <th>0</th>\n",
       "      <td>264</td>\n",
       "      <td>0851</td>\n",
       "      <td>Canthotomy</td>\n",
       "      <td>Canthotomy</td>\n",
       "    </tr>\n",
       "    <tr>\n",
       "      <th>1</th>\n",
       "      <td>265</td>\n",
       "      <td>0852</td>\n",
       "      <td>Blepharorrhaphy</td>\n",
       "      <td>Blepharorrhaphy</td>\n",
       "    </tr>\n",
       "    <tr>\n",
       "      <th>2</th>\n",
       "      <td>266</td>\n",
       "      <td>0859</td>\n",
       "      <td>Adjust lid position NEC</td>\n",
       "      <td>Other adjustment of lid position</td>\n",
       "    </tr>\n",
       "    <tr>\n",
       "      <th>3</th>\n",
       "      <td>267</td>\n",
       "      <td>0861</td>\n",
       "      <td>Lid reconst w skin graft</td>\n",
       "      <td>Reconstruction of eyelid with skin flap or graft</td>\n",
       "    </tr>\n",
       "    <tr>\n",
       "      <th>4</th>\n",
       "      <td>268</td>\n",
       "      <td>0862</td>\n",
       "      <td>Lid reconst w muc graft</td>\n",
       "      <td>Reconstruction of eyelid with mucous membrane ...</td>\n",
       "    </tr>\n",
       "  </tbody>\n",
       "</table>\n",
       "</div>"
      ],
      "text/plain": [
       "   row_id icd9_code               short_title  \\\n",
       "0     264      0851                Canthotomy   \n",
       "1     265      0852           Blepharorrhaphy   \n",
       "2     266      0859   Adjust lid position NEC   \n",
       "3     267      0861  Lid reconst w skin graft   \n",
       "4     268      0862   Lid reconst w muc graft   \n",
       "\n",
       "                                          long_title  \n",
       "0                                         Canthotomy  \n",
       "1                                    Blepharorrhaphy  \n",
       "2                   Other adjustment of lid position  \n",
       "3   Reconstruction of eyelid with skin flap or graft  \n",
       "4  Reconstruction of eyelid with mucous membrane ...  "
      ]
     },
     "execution_count": 4,
     "metadata": {},
     "output_type": "execute_result"
    }
   ],
   "source": [
    "sql_1 = \"SELECT * FROM mimic_iii.d_icd_procedures\"\n",
    "chartevents = pd.read_sql_query(sql_1, conn)\n",
    "chartevents.head()"
   ]
  },
  {
   "cell_type": "code",
   "execution_count": 4,
   "metadata": {},
   "outputs": [
    {
     "data": {
      "text/html": [
       "<div>\n",
       "<style scoped>\n",
       "    .dataframe tbody tr th:only-of-type {\n",
       "        vertical-align: middle;\n",
       "    }\n",
       "\n",
       "    .dataframe tbody tr th {\n",
       "        vertical-align: top;\n",
       "    }\n",
       "\n",
       "    .dataframe thead th {\n",
       "        text-align: right;\n",
       "    }\n",
       "</style>\n",
       "<table border=\"1\" class=\"dataframe\">\n",
       "  <thead>\n",
       "    <tr style=\"text-align: right;\">\n",
       "      <th></th>\n",
       "      <th>row_id</th>\n",
       "      <th>icd9_code</th>\n",
       "      <th>short_title</th>\n",
       "      <th>long_title</th>\n",
       "    </tr>\n",
       "  </thead>\n",
       "  <tbody>\n",
       "    <tr>\n",
       "      <th>130</th>\n",
       "      <td>394</td>\n",
       "      <td>073</td>\n",
       "      <td>Bilateral adrenalectomy</td>\n",
       "      <td>Bilateral adrenalectomy</td>\n",
       "    </tr>\n",
       "  </tbody>\n",
       "</table>\n",
       "</div>"
      ],
      "text/plain": [
       "     row_id icd9_code              short_title               long_title\n",
       "130     394       073  Bilateral adrenalectomy  Bilateral adrenalectomy"
      ]
     },
     "execution_count": 4,
     "metadata": {},
     "output_type": "execute_result"
    }
   ],
   "source": [
    "chartevents.loc[chartevents.icd9_code == '073']"
   ]
  },
  {
   "cell_type": "markdown",
   "metadata": {},
   "source": [
    "## 1a. Admissions criteria\n",
    "\n",
    "Find cause for admissions to the ICU with a simple word counter. If you need help using the admissions table, go to: https://mimic.physionet.org/mimictables/admissions/."
   ]
  },
  {
   "cell_type": "code",
   "execution_count": 5,
   "metadata": {},
   "outputs": [],
   "source": [
    "# your answer here\n",
    "sql_2 = \"SELECT * FROM mimic_iii.admissions\"\n",
    "admissions = pd.read_sql_query(sql_2, conn)"
   ]
  },
  {
   "cell_type": "code",
   "execution_count": 38,
   "metadata": {},
   "outputs": [
    {
     "data": {
      "text/plain": [
       "['row_id',\n",
       " 'subject_id',\n",
       " 'hadm_id',\n",
       " 'admittime',\n",
       " 'dischtime',\n",
       " 'deathtime',\n",
       " 'admission_type',\n",
       " 'admission_location',\n",
       " 'discharge_location',\n",
       " 'insurance',\n",
       " 'language',\n",
       " 'religion',\n",
       " 'marital_status',\n",
       " 'ethnicity',\n",
       " 'edregtime',\n",
       " 'edouttime',\n",
       " 'diagnosis',\n",
       " 'hospital_expire_flag',\n",
       " 'has_chartevents_data']"
      ]
     },
     "execution_count": 38,
     "metadata": {},
     "output_type": "execute_result"
    }
   ],
   "source": [
    "#column names\n",
    "list(admissions)"
   ]
  },
  {
   "cell_type": "markdown",
   "metadata": {},
   "source": [
    "You now have an idea of the diverse spread of the reason for patient's admittance. Let's get more specific.\n",
    "\n",
    "The opioid crisis has been rampant, and commands particular salience in today's news.  What percentage of people were admitted for overdoses. Is the number what you might expect? Can you hypothesize why this percentage might be so low or high? "
   ]
  },
  {
   "cell_type": "code",
   "execution_count": 20,
   "metadata": {},
   "outputs": [
    {
     "data": {
      "text/plain": [
       "0.003509902333152469"
      ]
     },
     "execution_count": 20,
     "metadata": {},
     "output_type": "execute_result"
    }
   ],
   "source": [
    "# your answer here\n",
    "overdose_dat = admissions.loc[admissions.diagnosis == 'OVERDOSE']\n",
    "\n",
    "#percentage of people admitted for an overdose\n",
    "len(overdose_dat)/len(admissions)"
   ]
  },
  {
   "cell_type": "markdown",
   "metadata": {},
   "source": [
    "### Answer: \n",
    "about .35% of people were admitted for overdose. The number is probably this low because either patients who are diagnosed with overdose are admitted to a different section of the hospital or perhaps compared to the number of other diagnoses at the ICU, overdosage on drugs is a minority diagnosis."
   ]
  },
  {
   "cell_type": "markdown",
   "metadata": {},
   "source": [
    "## 1b. What does Admissions table say about death?\n",
    "\n",
    "Again, observe the column titles associated with the Admissions table.  Find the frequency of ICU deaths as a percentage of total ICU admittance."
   ]
  },
  {
   "cell_type": "code",
   "execution_count": 18,
   "metadata": {},
   "outputs": [],
   "source": [
    "# your answer here\n",
    "death_dat = admissions.loc[admissions['deathtime'].notnull()]"
   ]
  },
  {
   "cell_type": "code",
   "execution_count": 21,
   "metadata": {},
   "outputs": [
    {
     "data": {
      "text/plain": [
       "0.09926071622354857"
      ]
     },
     "execution_count": 21,
     "metadata": {},
     "output_type": "execute_result"
    }
   ],
   "source": [
    "len(death_dat)/len(admissions)"
   ]
  },
  {
   "cell_type": "markdown",
   "metadata": {},
   "source": [
    "### Answer\n",
    "The total percentage of ICU deaths as a percentage of total ICU deaths is 9.93% of total admissions"
   ]
  },
  {
   "cell_type": "markdown",
   "metadata": {},
   "source": [
    "## 2. Diagnoses\n",
    "\n",
    "Billable diagnoses are recorded according to ICD9 codes, which specify different disease on a coded basis. (Healthcare currently uses ICD10, but at the time of the MIMIC data, ICD9 was used. Do not confuse ICD10 with ICD9!) A quick Google search should give you a good idea of how the ICD9 codes are organized. For starters, V codes are for diagnoses unrelated to an underlying disease or disorder; E codes are for diagnoses with an environmental cause. All other codes are purely numerical. For a quick rundown of the diagnoses table in MIMIC, go to: https://mimic.physionet.org/mimictables/diagnoses_icd/\n",
    "\n",
    "Look up the ICD9 code conventions and design a method to count codes, and therefore diagnosis frequency. As a warning, the Mimic database converts the usual ICD9 codes into integers. Thus, \"401.9\", for hypertension, becomes \"4019\". \n",
    "\n",
    "Provide a list of the top ten ICD9 codes, and their count (the number of patients with this diagnosis). "
   ]
  },
  {
   "cell_type": "code",
   "execution_count": 3,
   "metadata": {},
   "outputs": [],
   "source": [
    "# your answer here\n",
    "sql_3 = \"SELECT * FROM mimic_iii.diagnoses_icd\"\n",
    "diag_icd = pd.read_sql_query(sql_3, conn)"
   ]
  },
  {
   "cell_type": "code",
   "execution_count": 4,
   "metadata": {},
   "outputs": [
    {
     "data": {
      "text/plain": [
       "row_id         0\n",
       "subject_id     0\n",
       "hadm_id        0\n",
       "seq_num       47\n",
       "icd9_code     47\n",
       "dtype: int64"
      ]
     },
     "execution_count": 4,
     "metadata": {},
     "output_type": "execute_result"
    }
   ],
   "source": [
    "#find sum of nan values\n",
    "diag_icd.isnull().sum()"
   ]
  },
  {
   "cell_type": "code",
   "execution_count": 5,
   "metadata": {},
   "outputs": [],
   "source": [
    "#drop na values\n",
    "diag_icd = diag_icd.dropna()"
   ]
  },
  {
   "cell_type": "code",
   "execution_count": 6,
   "metadata": {},
   "outputs": [],
   "source": [
    "icd9 = np.array(diag_icd.icd9_code)"
   ]
  },
  {
   "cell_type": "code",
   "execution_count": 7,
   "metadata": {},
   "outputs": [],
   "source": [
    "unique,counts = np.unique(icd9, return_counts = True)"
   ]
  },
  {
   "cell_type": "code",
   "execution_count": 8,
   "metadata": {},
   "outputs": [],
   "source": [
    "df = {'icd9': unique, 'counts': counts}\n",
    "df = pd.DataFrame(df)"
   ]
  },
  {
   "cell_type": "code",
   "execution_count": 9,
   "metadata": {
    "scrolled": true
   },
   "outputs": [
    {
     "data": {
      "text/html": [
       "<div>\n",
       "<style scoped>\n",
       "    .dataframe tbody tr th:only-of-type {\n",
       "        vertical-align: middle;\n",
       "    }\n",
       "\n",
       "    .dataframe tbody tr th {\n",
       "        vertical-align: top;\n",
       "    }\n",
       "\n",
       "    .dataframe thead th {\n",
       "        text-align: right;\n",
       "    }\n",
       "</style>\n",
       "<table border=\"1\" class=\"dataframe\">\n",
       "  <thead>\n",
       "    <tr style=\"text-align: right;\">\n",
       "      <th></th>\n",
       "      <th>icd9</th>\n",
       "      <th>counts</th>\n",
       "    </tr>\n",
       "  </thead>\n",
       "  <tbody>\n",
       "    <tr>\n",
       "      <th>1962</th>\n",
       "      <td>4019</td>\n",
       "      <td>20703</td>\n",
       "    </tr>\n",
       "    <tr>\n",
       "      <th>2109</th>\n",
       "      <td>4280</td>\n",
       "      <td>13111</td>\n",
       "    </tr>\n",
       "    <tr>\n",
       "      <th>2098</th>\n",
       "      <td>42731</td>\n",
       "      <td>12891</td>\n",
       "    </tr>\n",
       "    <tr>\n",
       "      <th>2019</th>\n",
       "      <td>41401</td>\n",
       "      <td>12429</td>\n",
       "    </tr>\n",
       "    <tr>\n",
       "      <th>2957</th>\n",
       "      <td>5849</td>\n",
       "      <td>9119</td>\n",
       "    </tr>\n",
       "    <tr>\n",
       "      <th>824</th>\n",
       "      <td>25000</td>\n",
       "      <td>9058</td>\n",
       "    </tr>\n",
       "    <tr>\n",
       "      <th>946</th>\n",
       "      <td>2724</td>\n",
       "      <td>8690</td>\n",
       "    </tr>\n",
       "    <tr>\n",
       "      <th>2536</th>\n",
       "      <td>51881</td>\n",
       "      <td>7497</td>\n",
       "    </tr>\n",
       "    <tr>\n",
       "      <th>3028</th>\n",
       "      <td>5990</td>\n",
       "      <td>6555</td>\n",
       "    </tr>\n",
       "    <tr>\n",
       "      <th>2633</th>\n",
       "      <td>53081</td>\n",
       "      <td>6326</td>\n",
       "    </tr>\n",
       "  </tbody>\n",
       "</table>\n",
       "</div>"
      ],
      "text/plain": [
       "       icd9  counts\n",
       "1962   4019   20703\n",
       "2109   4280   13111\n",
       "2098  42731   12891\n",
       "2019  41401   12429\n",
       "2957   5849    9119\n",
       "824   25000    9058\n",
       "946    2724    8690\n",
       "2536  51881    7497\n",
       "3028   5990    6555\n",
       "2633  53081    6326"
      ]
     },
     "execution_count": 9,
     "metadata": {},
     "output_type": "execute_result"
    }
   ],
   "source": [
    "df.sort_values(by= 'counts', ascending = False).head(10)"
   ]
  },
  {
   "cell_type": "markdown",
   "metadata": {},
   "source": [
    "According to the data above, what is the number one diagnosis made upon ICU admittance?  How many people are coming in with diabetes?\n",
    "\n",
    "The number one diagnosis is Hypertension NOS upon ICU admittance. The icd9 code for diabetes is 250.00 which translate to 25000 in the mimic database. It seems that 9058 diagnoses for diabetes are made upon ICU admittance"
   ]
  },
  {
   "cell_type": "markdown",
   "metadata": {},
   "source": [
    "## 3. Medications (Prescriptions)\n",
    "\n",
    "What medications are patients given who share a diagnosis? For example, how often do hypertension patients also take insulin? (which would mean that they are also diabetic!) In addition, how similar are the top 10 medications for patients with the same diagnosis (you would expect some level of consistency, if physicians are treating the same disease in the same way). In the Mimic database, we have a table of prescriptions, (https://mimic.physionet.org/mimictables/prescriptions/) which will use as a proxy for the medications the patient is taking. \n",
    "\n",
    "To carry out these queries, you'll need to use tables that have prescriptions as well as the ICD9 diagnosis table. You should choose which disease / diagnosis you will inspect: Please use one of these three: Diabetes, Hypertension, or Heart disease. For your disease, print out the top 20 prescriptions. Also, you must indicate what percentage of patients had each of these prescriptions. (E.g., a large percentage of diabetes patients will have insulin prescribed. But does the data show 80%? 95%? 99%?)\n"
   ]
  },
  {
   "cell_type": "code",
   "execution_count": 10,
   "metadata": {},
   "outputs": [],
   "source": [
    "# your answer here\n",
    "sql_4 = \"SELECT * FROM mimic_iii.prescriptions\"\n",
    "prescriptions = pd.read_sql_query(sql_4, conn)"
   ]
  },
  {
   "cell_type": "code",
   "execution_count": 12,
   "metadata": {},
   "outputs": [
    {
     "data": {
      "text/plain": [
       "['row_id',\n",
       " 'subject_id',\n",
       " 'hadm_id',\n",
       " 'icustay_id',\n",
       " 'startdate',\n",
       " 'enddate',\n",
       " 'drug_type',\n",
       " 'drug',\n",
       " 'drug_name_poe',\n",
       " 'drug_name_generic',\n",
       " 'formulary_drug_cd',\n",
       " 'gsn',\n",
       " 'ndc',\n",
       " 'prod_strength',\n",
       " 'dose_val_rx',\n",
       " 'dose_unit_rx',\n",
       " 'form_val_disp',\n",
       " 'form_unit_disp',\n",
       " 'route']"
      ]
     },
     "execution_count": 12,
     "metadata": {},
     "output_type": "execute_result"
    }
   ],
   "source": [
    "list(prescriptions)"
   ]
  },
  {
   "cell_type": "code",
   "execution_count": 13,
   "metadata": {},
   "outputs": [
    {
     "data": {
      "text/html": [
       "<div>\n",
       "<style scoped>\n",
       "    .dataframe tbody tr th:only-of-type {\n",
       "        vertical-align: middle;\n",
       "    }\n",
       "\n",
       "    .dataframe tbody tr th {\n",
       "        vertical-align: top;\n",
       "    }\n",
       "\n",
       "    .dataframe thead th {\n",
       "        text-align: right;\n",
       "    }\n",
       "</style>\n",
       "<table border=\"1\" class=\"dataframe\">\n",
       "  <thead>\n",
       "    <tr style=\"text-align: right;\">\n",
       "      <th></th>\n",
       "      <th>row_id</th>\n",
       "      <th>subject_id</th>\n",
       "      <th>hadm_id</th>\n",
       "      <th>icustay_id</th>\n",
       "      <th>startdate</th>\n",
       "      <th>enddate</th>\n",
       "      <th>drug_type</th>\n",
       "      <th>drug</th>\n",
       "      <th>drug_name_poe</th>\n",
       "      <th>drug_name_generic</th>\n",
       "      <th>formulary_drug_cd</th>\n",
       "      <th>gsn</th>\n",
       "      <th>ndc</th>\n",
       "      <th>prod_strength</th>\n",
       "      <th>dose_val_rx</th>\n",
       "      <th>dose_unit_rx</th>\n",
       "      <th>form_val_disp</th>\n",
       "      <th>form_unit_disp</th>\n",
       "      <th>route</th>\n",
       "    </tr>\n",
       "  </thead>\n",
       "  <tbody>\n",
       "    <tr>\n",
       "      <th>0</th>\n",
       "      <td>3704362</td>\n",
       "      <td>78874</td>\n",
       "      <td>112516</td>\n",
       "      <td>280754.0</td>\n",
       "      <td>2126-05-19</td>\n",
       "      <td>2126-05-22</td>\n",
       "      <td>MAIN</td>\n",
       "      <td>TraMADOL (Ultram)</td>\n",
       "      <td>TraMADOL (Ultram)</td>\n",
       "      <td>TraMADOL (Ultram)</td>\n",
       "      <td>TRAM50</td>\n",
       "      <td>023139</td>\n",
       "      <td>00406717162</td>\n",
       "      <td>50mg Tablet</td>\n",
       "      <td>50</td>\n",
       "      <td>mg</td>\n",
       "      <td>1</td>\n",
       "      <td>TAB</td>\n",
       "      <td>PO</td>\n",
       "    </tr>\n",
       "    <tr>\n",
       "      <th>1</th>\n",
       "      <td>3704360</td>\n",
       "      <td>78874</td>\n",
       "      <td>112516</td>\n",
       "      <td>280754.0</td>\n",
       "      <td>2126-05-19</td>\n",
       "      <td>2126-05-22</td>\n",
       "      <td>MAIN</td>\n",
       "      <td>Sodium Chloride 0.9%  Flush</td>\n",
       "      <td>Sodium Chloride 0.9%  Flush</td>\n",
       "      <td>Sodium Chloride 0.9%  Flush</td>\n",
       "      <td>NACLFLUSH</td>\n",
       "      <td>None</td>\n",
       "      <td>0</td>\n",
       "      <td>Syringe</td>\n",
       "      <td>10</td>\n",
       "      <td>mL</td>\n",
       "      <td>2</td>\n",
       "      <td>SYR</td>\n",
       "      <td>IV</td>\n",
       "    </tr>\n",
       "    <tr>\n",
       "      <th>2</th>\n",
       "      <td>3704359</td>\n",
       "      <td>78874</td>\n",
       "      <td>112516</td>\n",
       "      <td>280754.0</td>\n",
       "      <td>2126-05-19</td>\n",
       "      <td>2126-05-22</td>\n",
       "      <td>MAIN</td>\n",
       "      <td>Sodium Chloride 0.9%  Flush</td>\n",
       "      <td>Sodium Chloride 0.9%  Flush</td>\n",
       "      <td>Sodium Chloride 0.9%  Flush</td>\n",
       "      <td>NACLFLUSH</td>\n",
       "      <td>None</td>\n",
       "      <td>0</td>\n",
       "      <td>Syringe</td>\n",
       "      <td>3</td>\n",
       "      <td>mL</td>\n",
       "      <td>0.6</td>\n",
       "      <td>SYR</td>\n",
       "      <td>IV</td>\n",
       "    </tr>\n",
       "    <tr>\n",
       "      <th>3</th>\n",
       "      <td>3704358</td>\n",
       "      <td>78874</td>\n",
       "      <td>112516</td>\n",
       "      <td>280754.0</td>\n",
       "      <td>2126-05-19</td>\n",
       "      <td>2126-05-22</td>\n",
       "      <td>MAIN</td>\n",
       "      <td>Insulin</td>\n",
       "      <td>Insulin</td>\n",
       "      <td>Insulin - Sliding Scale</td>\n",
       "      <td>INSULIN</td>\n",
       "      <td>027413</td>\n",
       "      <td>0</td>\n",
       "      <td>Dummy Package for Sliding Scale</td>\n",
       "      <td>0</td>\n",
       "      <td>UNIT</td>\n",
       "      <td>0</td>\n",
       "      <td>VIAL</td>\n",
       "      <td>SC</td>\n",
       "    </tr>\n",
       "    <tr>\n",
       "      <th>4</th>\n",
       "      <td>3704357</td>\n",
       "      <td>78874</td>\n",
       "      <td>112516</td>\n",
       "      <td>280754.0</td>\n",
       "      <td>2126-05-19</td>\n",
       "      <td>2126-05-22</td>\n",
       "      <td>MAIN</td>\n",
       "      <td>Ranitidine</td>\n",
       "      <td>Ranitidine</td>\n",
       "      <td>Ranitidine</td>\n",
       "      <td>RANI150</td>\n",
       "      <td>011673</td>\n",
       "      <td>00904526161</td>\n",
       "      <td>150mg Tablet</td>\n",
       "      <td>150</td>\n",
       "      <td>mg</td>\n",
       "      <td>1</td>\n",
       "      <td>TAB</td>\n",
       "      <td>PO/NG</td>\n",
       "    </tr>\n",
       "  </tbody>\n",
       "</table>\n",
       "</div>"
      ],
      "text/plain": [
       "    row_id  subject_id  hadm_id  icustay_id  startdate    enddate drug_type  \\\n",
       "0  3704362       78874   112516    280754.0 2126-05-19 2126-05-22      MAIN   \n",
       "1  3704360       78874   112516    280754.0 2126-05-19 2126-05-22      MAIN   \n",
       "2  3704359       78874   112516    280754.0 2126-05-19 2126-05-22      MAIN   \n",
       "3  3704358       78874   112516    280754.0 2126-05-19 2126-05-22      MAIN   \n",
       "4  3704357       78874   112516    280754.0 2126-05-19 2126-05-22      MAIN   \n",
       "\n",
       "                          drug                drug_name_poe  \\\n",
       "0            TraMADOL (Ultram)            TraMADOL (Ultram)   \n",
       "1  Sodium Chloride 0.9%  Flush  Sodium Chloride 0.9%  Flush   \n",
       "2  Sodium Chloride 0.9%  Flush  Sodium Chloride 0.9%  Flush   \n",
       "3                      Insulin                      Insulin   \n",
       "4                   Ranitidine                   Ranitidine   \n",
       "\n",
       "             drug_name_generic formulary_drug_cd     gsn          ndc  \\\n",
       "0            TraMADOL (Ultram)            TRAM50  023139  00406717162   \n",
       "1  Sodium Chloride 0.9%  Flush         NACLFLUSH    None            0   \n",
       "2  Sodium Chloride 0.9%  Flush         NACLFLUSH    None            0   \n",
       "3      Insulin - Sliding Scale           INSULIN  027413            0   \n",
       "4                   Ranitidine           RANI150  011673  00904526161   \n",
       "\n",
       "                     prod_strength dose_val_rx dose_unit_rx form_val_disp  \\\n",
       "0                      50mg Tablet          50           mg             1   \n",
       "1                          Syringe          10           mL             2   \n",
       "2                          Syringe           3           mL           0.6   \n",
       "3  Dummy Package for Sliding Scale           0         UNIT             0   \n",
       "4                     150mg Tablet         150           mg             1   \n",
       "\n",
       "  form_unit_disp  route  \n",
       "0            TAB     PO  \n",
       "1            SYR     IV  \n",
       "2            SYR     IV  \n",
       "3           VIAL     SC  \n",
       "4            TAB  PO/NG  "
      ]
     },
     "execution_count": 13,
     "metadata": {},
     "output_type": "execute_result"
    }
   ],
   "source": [
    "prescriptions.head()"
   ]
  },
  {
   "cell_type": "code",
   "execution_count": 14,
   "metadata": {},
   "outputs": [
    {
     "data": {
      "text/html": [
       "<div>\n",
       "<style scoped>\n",
       "    .dataframe tbody tr th:only-of-type {\n",
       "        vertical-align: middle;\n",
       "    }\n",
       "\n",
       "    .dataframe tbody tr th {\n",
       "        vertical-align: top;\n",
       "    }\n",
       "\n",
       "    .dataframe thead th {\n",
       "        text-align: right;\n",
       "    }\n",
       "</style>\n",
       "<table border=\"1\" class=\"dataframe\">\n",
       "  <thead>\n",
       "    <tr style=\"text-align: right;\">\n",
       "      <th></th>\n",
       "      <th>row_id</th>\n",
       "      <th>subject_id</th>\n",
       "      <th>hadm_id</th>\n",
       "      <th>seq_num</th>\n",
       "      <th>icd9_code</th>\n",
       "    </tr>\n",
       "  </thead>\n",
       "  <tbody>\n",
       "    <tr>\n",
       "      <th>514521</th>\n",
       "      <td>499130</td>\n",
       "      <td>66093</td>\n",
       "      <td>163645</td>\n",
       "      <td>5.0</td>\n",
       "      <td>56721</td>\n",
       "    </tr>\n",
       "    <tr>\n",
       "      <th>4654</th>\n",
       "      <td>4268</td>\n",
       "      <td>357</td>\n",
       "      <td>117876</td>\n",
       "      <td>7.0</td>\n",
       "      <td>5119</td>\n",
       "    </tr>\n",
       "    <tr>\n",
       "      <th>649272</th>\n",
       "      <td>638925</td>\n",
       "      <td>97307</td>\n",
       "      <td>169958</td>\n",
       "      <td>14.0</td>\n",
       "      <td>45829</td>\n",
       "    </tr>\n",
       "    <tr>\n",
       "      <th>116216</th>\n",
       "      <td>122373</td>\n",
       "      <td>10899</td>\n",
       "      <td>132881</td>\n",
       "      <td>16.0</td>\n",
       "      <td>4019</td>\n",
       "    </tr>\n",
       "    <tr>\n",
       "      <th>43639</th>\n",
       "      <td>21429</td>\n",
       "      <td>1931</td>\n",
       "      <td>199884</td>\n",
       "      <td>6.0</td>\n",
       "      <td>5939</td>\n",
       "    </tr>\n",
       "    <tr>\n",
       "      <th>508298</th>\n",
       "      <td>503972</td>\n",
       "      <td>67158</td>\n",
       "      <td>131180</td>\n",
       "      <td>2.0</td>\n",
       "      <td>51851</td>\n",
       "    </tr>\n",
       "    <tr>\n",
       "      <th>104147</th>\n",
       "      <td>117855</td>\n",
       "      <td>10515</td>\n",
       "      <td>187982</td>\n",
       "      <td>9.0</td>\n",
       "      <td>41401</td>\n",
       "    </tr>\n",
       "    <tr>\n",
       "      <th>536707</th>\n",
       "      <td>544277</td>\n",
       "      <td>76193</td>\n",
       "      <td>166269</td>\n",
       "      <td>2.0</td>\n",
       "      <td>42832</td>\n",
       "    </tr>\n",
       "    <tr>\n",
       "      <th>400992</th>\n",
       "      <td>378457</td>\n",
       "      <td>32759</td>\n",
       "      <td>158709</td>\n",
       "      <td>19.0</td>\n",
       "      <td>25000</td>\n",
       "    </tr>\n",
       "    <tr>\n",
       "      <th>528797</th>\n",
       "      <td>512849</td>\n",
       "      <td>69023</td>\n",
       "      <td>124839</td>\n",
       "      <td>9.0</td>\n",
       "      <td>5859</td>\n",
       "    </tr>\n",
       "  </tbody>\n",
       "</table>\n",
       "</div>"
      ],
      "text/plain": [
       "        row_id  subject_id  hadm_id  seq_num icd9_code\n",
       "514521  499130       66093   163645      5.0     56721\n",
       "4654      4268         357   117876      7.0      5119\n",
       "649272  638925       97307   169958     14.0     45829\n",
       "116216  122373       10899   132881     16.0      4019\n",
       "43639    21429        1931   199884      6.0      5939\n",
       "508298  503972       67158   131180      2.0     51851\n",
       "104147  117855       10515   187982      9.0     41401\n",
       "536707  544277       76193   166269      2.0     42832\n",
       "400992  378457       32759   158709     19.0     25000\n",
       "528797  512849       69023   124839      9.0      5859"
      ]
     },
     "execution_count": 14,
     "metadata": {},
     "output_type": "execute_result"
    }
   ],
   "source": [
    "diag_icd.sample(10)"
   ]
  },
  {
   "cell_type": "code",
   "execution_count": 15,
   "metadata": {},
   "outputs": [
    {
     "data": {
      "text/plain": [
       "row_id          int64\n",
       "subject_id      int64\n",
       "hadm_id         int64\n",
       "seq_num       float64\n",
       "icd9_code      object\n",
       "dtype: object"
      ]
     },
     "execution_count": 15,
     "metadata": {},
     "output_type": "execute_result"
    }
   ],
   "source": [
    "diag_icd.dtypes"
   ]
  },
  {
   "cell_type": "code",
   "execution_count": 16,
   "metadata": {},
   "outputs": [
    {
     "data": {
      "text/plain": [
       "row_id                        int64\n",
       "subject_id                    int64\n",
       "hadm_id                       int64\n",
       "icustay_id                  float64\n",
       "startdate            datetime64[ns]\n",
       "enddate              datetime64[ns]\n",
       "drug_type                    object\n",
       "drug                         object\n",
       "drug_name_poe                object\n",
       "drug_name_generic            object\n",
       "formulary_drug_cd            object\n",
       "gsn                          object\n",
       "ndc                          object\n",
       "prod_strength                object\n",
       "dose_val_rx                  object\n",
       "dose_unit_rx                 object\n",
       "form_val_disp                object\n",
       "form_unit_disp               object\n",
       "route                        object\n",
       "dtype: object"
      ]
     },
     "execution_count": 16,
     "metadata": {},
     "output_type": "execute_result"
    }
   ],
   "source": [
    "prescriptions.dtypes"
   ]
  },
  {
   "cell_type": "code",
   "execution_count": 18,
   "metadata": {},
   "outputs": [
    {
     "data": {
      "text/plain": [
       "117"
      ]
     },
     "execution_count": 18,
     "metadata": {},
     "output_type": "execute_result"
    }
   ],
   "source": [
    "#find all patients with diabetes\n",
    "diab = diag_icd.loc[diag_icd.icd9_code == '25000']\n",
    "\n",
    "diab_un = diab.subject_id.unique()\n",
    "diab_un[0]"
   ]
  },
  {
   "cell_type": "code",
   "execution_count": 19,
   "metadata": {},
   "outputs": [
    {
     "data": {
      "text/plain": [
       "7370"
      ]
     },
     "execution_count": 19,
     "metadata": {},
     "output_type": "execute_result"
    }
   ],
   "source": [
    "len(diab_un)"
   ]
  },
  {
   "cell_type": "code",
   "execution_count": 23,
   "metadata": {},
   "outputs": [],
   "source": [
    "df2 = prescriptions.loc[prescriptions.subject_id.isin(diab_un)]\n"
   ]
  },
  {
   "cell_type": "code",
   "execution_count": 112,
   "metadata": {},
   "outputs": [
    {
     "data": {
      "text/html": [
       "<div>\n",
       "<style scoped>\n",
       "    .dataframe tbody tr th:only-of-type {\n",
       "        vertical-align: middle;\n",
       "    }\n",
       "\n",
       "    .dataframe tbody tr th {\n",
       "        vertical-align: top;\n",
       "    }\n",
       "\n",
       "    .dataframe thead th {\n",
       "        text-align: right;\n",
       "    }\n",
       "</style>\n",
       "<table border=\"1\" class=\"dataframe\">\n",
       "  <thead>\n",
       "    <tr style=\"text-align: right;\">\n",
       "      <th></th>\n",
       "      <th>row_id</th>\n",
       "      <th>subject_id</th>\n",
       "      <th>hadm_id</th>\n",
       "      <th>icustay_id</th>\n",
       "      <th>startdate</th>\n",
       "      <th>enddate</th>\n",
       "      <th>drug_type</th>\n",
       "      <th>drug</th>\n",
       "      <th>drug_name_poe</th>\n",
       "      <th>drug_name_generic</th>\n",
       "      <th>formulary_drug_cd</th>\n",
       "      <th>gsn</th>\n",
       "      <th>ndc</th>\n",
       "      <th>prod_strength</th>\n",
       "      <th>dose_val_rx</th>\n",
       "      <th>dose_unit_rx</th>\n",
       "      <th>form_val_disp</th>\n",
       "      <th>form_unit_disp</th>\n",
       "      <th>route</th>\n",
       "    </tr>\n",
       "  </thead>\n",
       "  <tbody>\n",
       "    <tr>\n",
       "      <th>2300280</th>\n",
       "      <td>1195930</td>\n",
       "      <td>24074</td>\n",
       "      <td>167353</td>\n",
       "      <td>NaN</td>\n",
       "      <td>2130-01-21</td>\n",
       "      <td>2130-01-22</td>\n",
       "      <td>MAIN</td>\n",
       "      <td>Bisacodyl</td>\n",
       "      <td>Bisacodyl</td>\n",
       "      <td>Bisacodyl</td>\n",
       "      <td>BISA5</td>\n",
       "      <td>002947</td>\n",
       "      <td>52959067430</td>\n",
       "      <td>5 mg Tab</td>\n",
       "      <td>10</td>\n",
       "      <td>mg</td>\n",
       "      <td>2</td>\n",
       "      <td>TAB</td>\n",
       "      <td>PO</td>\n",
       "    </tr>\n",
       "    <tr>\n",
       "      <th>2653155</th>\n",
       "      <td>1057547</td>\n",
       "      <td>27789</td>\n",
       "      <td>149943</td>\n",
       "      <td>246257.0</td>\n",
       "      <td>2109-09-04</td>\n",
       "      <td>2109-09-07</td>\n",
       "      <td>MAIN</td>\n",
       "      <td>Acetaminophen</td>\n",
       "      <td>Acetaminophen</td>\n",
       "      <td>Acetaminophen</td>\n",
       "      <td>ACET325</td>\n",
       "      <td>004489</td>\n",
       "      <td>00182844789</td>\n",
       "      <td>325mg Tablet</td>\n",
       "      <td>650</td>\n",
       "      <td>mg</td>\n",
       "      <td>2</td>\n",
       "      <td>TAB</td>\n",
       "      <td>PO</td>\n",
       "    </tr>\n",
       "    <tr>\n",
       "      <th>2434774</th>\n",
       "      <td>2703326</td>\n",
       "      <td>24330</td>\n",
       "      <td>157471</td>\n",
       "      <td>293958.0</td>\n",
       "      <td>2181-07-31</td>\n",
       "      <td>2181-07-31</td>\n",
       "      <td>BASE</td>\n",
       "      <td>Bag</td>\n",
       "      <td>None</td>\n",
       "      <td>None</td>\n",
       "      <td>BAG50</td>\n",
       "      <td>None</td>\n",
       "      <td>0</td>\n",
       "      <td>50 mL Bag</td>\n",
       "      <td>50</td>\n",
       "      <td>mL</td>\n",
       "      <td>1</td>\n",
       "      <td>BAG</td>\n",
       "      <td>IV</td>\n",
       "    </tr>\n",
       "    <tr>\n",
       "      <th>973191</th>\n",
       "      <td>940886</td>\n",
       "      <td>4644</td>\n",
       "      <td>184074</td>\n",
       "      <td>221643.0</td>\n",
       "      <td>2132-06-22</td>\n",
       "      <td>2132-06-23</td>\n",
       "      <td>MAIN</td>\n",
       "      <td>Furosemide</td>\n",
       "      <td>Furosemide</td>\n",
       "      <td>Furosemide</td>\n",
       "      <td>FURO40I</td>\n",
       "      <td>008205</td>\n",
       "      <td>00517570425</td>\n",
       "      <td>40mg/4mL Vial</td>\n",
       "      <td>40</td>\n",
       "      <td>mg</td>\n",
       "      <td>1</td>\n",
       "      <td>VIAL</td>\n",
       "      <td>IV</td>\n",
       "    </tr>\n",
       "    <tr>\n",
       "      <th>1341977</th>\n",
       "      <td>1720621</td>\n",
       "      <td>9834</td>\n",
       "      <td>171264</td>\n",
       "      <td>230425.0</td>\n",
       "      <td>2141-02-13</td>\n",
       "      <td>2141-02-14</td>\n",
       "      <td>MAIN</td>\n",
       "      <td>Metoprolol</td>\n",
       "      <td>Metoprolol</td>\n",
       "      <td>Metoprolol</td>\n",
       "      <td>METO25</td>\n",
       "      <td>050631</td>\n",
       "      <td>51079025520</td>\n",
       "      <td>25mg Tablet</td>\n",
       "      <td>25</td>\n",
       "      <td>mg</td>\n",
       "      <td>1</td>\n",
       "      <td>TAB</td>\n",
       "      <td>PO</td>\n",
       "    </tr>\n",
       "    <tr>\n",
       "      <th>1406603</th>\n",
       "      <td>1824189</td>\n",
       "      <td>10487</td>\n",
       "      <td>188380</td>\n",
       "      <td>254209.0</td>\n",
       "      <td>2134-10-13</td>\n",
       "      <td>2134-10-19</td>\n",
       "      <td>MAIN</td>\n",
       "      <td>Insulin</td>\n",
       "      <td>Insulin</td>\n",
       "      <td>Insulin Human NPH</td>\n",
       "      <td>INNHI</td>\n",
       "      <td>001740</td>\n",
       "      <td>00002831501</td>\n",
       "      <td>10ML VIAL</td>\n",
       "      <td>45</td>\n",
       "      <td>UNIT</td>\n",
       "      <td>0.45</td>\n",
       "      <td>ml</td>\n",
       "      <td>SC</td>\n",
       "    </tr>\n",
       "    <tr>\n",
       "      <th>2944082</th>\n",
       "      <td>949805</td>\n",
       "      <td>31171</td>\n",
       "      <td>158616</td>\n",
       "      <td>251941.0</td>\n",
       "      <td>2121-04-23</td>\n",
       "      <td>2121-04-25</td>\n",
       "      <td>MAIN</td>\n",
       "      <td>Heparin</td>\n",
       "      <td>Heparin</td>\n",
       "      <td>Heparin</td>\n",
       "      <td>HEPA30I</td>\n",
       "      <td>006543</td>\n",
       "      <td>63323054031</td>\n",
       "      <td>1000 Units/mL- 30mL Vial</td>\n",
       "      <td>1000-2000</td>\n",
       "      <td>UNIT</td>\n",
       "      <td>1-2</td>\n",
       "      <td>mL</td>\n",
       "      <td>IV</td>\n",
       "    </tr>\n",
       "    <tr>\n",
       "      <th>2344381</th>\n",
       "      <td>2286138</td>\n",
       "      <td>24727</td>\n",
       "      <td>125742</td>\n",
       "      <td>291363.0</td>\n",
       "      <td>2169-06-18</td>\n",
       "      <td>2169-06-19</td>\n",
       "      <td>MAIN</td>\n",
       "      <td>Amiodarone HCl</td>\n",
       "      <td>Amiodarone HCl</td>\n",
       "      <td>Amiodarone HCl</td>\n",
       "      <td>AMIO150I</td>\n",
       "      <td>017240</td>\n",
       "      <td>00008081401</td>\n",
       "      <td>150mg/3mL Vial</td>\n",
       "      <td>150</td>\n",
       "      <td>mg</td>\n",
       "      <td>1</td>\n",
       "      <td>VIAL</td>\n",
       "      <td>IV</td>\n",
       "    </tr>\n",
       "    <tr>\n",
       "      <th>1240235</th>\n",
       "      <td>406633</td>\n",
       "      <td>7476</td>\n",
       "      <td>184920</td>\n",
       "      <td>224381.0</td>\n",
       "      <td>2190-10-16</td>\n",
       "      <td>2190-10-19</td>\n",
       "      <td>MAIN</td>\n",
       "      <td>Captopril</td>\n",
       "      <td>Captopril</td>\n",
       "      <td>Captopril</td>\n",
       "      <td>CAPT25</td>\n",
       "      <td>000380</td>\n",
       "      <td>59772704602</td>\n",
       "      <td>25MG TAB</td>\n",
       "      <td>25</td>\n",
       "      <td>mg</td>\n",
       "      <td>1</td>\n",
       "      <td>TAB</td>\n",
       "      <td>PO</td>\n",
       "    </tr>\n",
       "    <tr>\n",
       "      <th>2057987</th>\n",
       "      <td>2513816</td>\n",
       "      <td>19079</td>\n",
       "      <td>142677</td>\n",
       "      <td>NaN</td>\n",
       "      <td>2181-05-17</td>\n",
       "      <td>2181-05-18</td>\n",
       "      <td>BASE</td>\n",
       "      <td>NS</td>\n",
       "      <td>None</td>\n",
       "      <td>None</td>\n",
       "      <td>METRBASE</td>\n",
       "      <td>None</td>\n",
       "      <td>0</td>\n",
       "      <td>100ml</td>\n",
       "      <td>100</td>\n",
       "      <td>mL</td>\n",
       "      <td>100</td>\n",
       "      <td>mL</td>\n",
       "      <td>IV</td>\n",
       "    </tr>\n",
       "  </tbody>\n",
       "</table>\n",
       "</div>"
      ],
      "text/plain": [
       "          row_id  subject_id  hadm_id  icustay_id  startdate    enddate  \\\n",
       "2300280  1195930       24074   167353         NaN 2130-01-21 2130-01-22   \n",
       "2653155  1057547       27789   149943    246257.0 2109-09-04 2109-09-07   \n",
       "2434774  2703326       24330   157471    293958.0 2181-07-31 2181-07-31   \n",
       "973191    940886        4644   184074    221643.0 2132-06-22 2132-06-23   \n",
       "1341977  1720621        9834   171264    230425.0 2141-02-13 2141-02-14   \n",
       "1406603  1824189       10487   188380    254209.0 2134-10-13 2134-10-19   \n",
       "2944082   949805       31171   158616    251941.0 2121-04-23 2121-04-25   \n",
       "2344381  2286138       24727   125742    291363.0 2169-06-18 2169-06-19   \n",
       "1240235   406633        7476   184920    224381.0 2190-10-16 2190-10-19   \n",
       "2057987  2513816       19079   142677         NaN 2181-05-17 2181-05-18   \n",
       "\n",
       "        drug_type            drug   drug_name_poe  drug_name_generic  \\\n",
       "2300280      MAIN       Bisacodyl       Bisacodyl          Bisacodyl   \n",
       "2653155      MAIN   Acetaminophen   Acetaminophen      Acetaminophen   \n",
       "2434774      BASE             Bag            None               None   \n",
       "973191       MAIN      Furosemide      Furosemide         Furosemide   \n",
       "1341977      MAIN      Metoprolol      Metoprolol         Metoprolol   \n",
       "1406603      MAIN         Insulin         Insulin  Insulin Human NPH   \n",
       "2944082      MAIN         Heparin         Heparin            Heparin   \n",
       "2344381      MAIN  Amiodarone HCl  Amiodarone HCl     Amiodarone HCl   \n",
       "1240235      MAIN       Captopril       Captopril          Captopril   \n",
       "2057987      BASE              NS            None               None   \n",
       "\n",
       "        formulary_drug_cd     gsn          ndc             prod_strength  \\\n",
       "2300280             BISA5  002947  52959067430                  5 mg Tab   \n",
       "2653155           ACET325  004489  00182844789              325mg Tablet   \n",
       "2434774             BAG50    None            0                 50 mL Bag   \n",
       "973191            FURO40I  008205  00517570425             40mg/4mL Vial   \n",
       "1341977            METO25  050631  51079025520               25mg Tablet   \n",
       "1406603             INNHI  001740  00002831501                 10ML VIAL   \n",
       "2944082           HEPA30I  006543  63323054031  1000 Units/mL- 30mL Vial   \n",
       "2344381          AMIO150I  017240  00008081401            150mg/3mL Vial   \n",
       "1240235            CAPT25  000380  59772704602                  25MG TAB   \n",
       "2057987          METRBASE    None            0                     100ml   \n",
       "\n",
       "        dose_val_rx dose_unit_rx form_val_disp form_unit_disp route  \n",
       "2300280          10           mg             2            TAB    PO  \n",
       "2653155         650           mg             2            TAB    PO  \n",
       "2434774          50           mL             1            BAG    IV  \n",
       "973191           40           mg             1           VIAL    IV  \n",
       "1341977          25           mg             1            TAB    PO  \n",
       "1406603          45         UNIT          0.45             ml    SC  \n",
       "2944082   1000-2000         UNIT           1-2             mL    IV  \n",
       "2344381         150           mg             1           VIAL    IV  \n",
       "1240235          25           mg             1            TAB    PO  \n",
       "2057987         100           mL           100             mL    IV  "
      ]
     },
     "execution_count": 112,
     "metadata": {},
     "output_type": "execute_result"
    }
   ],
   "source": [
    "df2.sample(10)"
   ]
  },
  {
   "cell_type": "code",
   "execution_count": 104,
   "metadata": {},
   "outputs": [],
   "source": [
    "##some patients have been prescribed drugs more than once on a different date this filters out repeat data\n",
    "sortedt = df2.groupby('subject_id')['drug'].unique()\n",
    "\n",
    "# compiled sortedt drugs into one list\n",
    "list1 = []\n",
    "for row in sortedt: \n",
    "    list1.extend(list(row))"
   ]
  },
  {
   "cell_type": "code",
   "execution_count": 107,
   "metadata": {},
   "outputs": [],
   "source": [
    "list1 = np.array(list1)\n",
    "unique,counts = np.unique(list1, return_counts = True)"
   ]
  },
  {
   "cell_type": "code",
   "execution_count": 108,
   "metadata": {},
   "outputs": [],
   "source": [
    "df3 = {'drug': unique, 'counts': counts}\n",
    "df3 = pd.DataFrame(df3)"
   ]
  },
  {
   "cell_type": "code",
   "execution_count": 109,
   "metadata": {},
   "outputs": [
    {
     "data": {
      "text/html": [
       "<div>\n",
       "<style scoped>\n",
       "    .dataframe tbody tr th:only-of-type {\n",
       "        vertical-align: middle;\n",
       "    }\n",
       "\n",
       "    .dataframe tbody tr th {\n",
       "        vertical-align: top;\n",
       "    }\n",
       "\n",
       "    .dataframe thead th {\n",
       "        text-align: right;\n",
       "    }\n",
       "</style>\n",
       "<table border=\"1\" class=\"dataframe\">\n",
       "  <thead>\n",
       "    <tr style=\"text-align: right;\">\n",
       "      <th></th>\n",
       "      <th>drug</th>\n",
       "      <th>counts</th>\n",
       "    </tr>\n",
       "  </thead>\n",
       "  <tbody>\n",
       "    <tr>\n",
       "      <th>1335</th>\n",
       "      <td>Metronidazole 0.75%</td>\n",
       "      <td>3</td>\n",
       "    </tr>\n",
       "    <tr>\n",
       "      <th>303</th>\n",
       "      <td>Betamethasone Valerate 0.1% Cream</td>\n",
       "      <td>2</td>\n",
       "    </tr>\n",
       "    <tr>\n",
       "      <th>1697</th>\n",
       "      <td>Prasugrel</td>\n",
       "      <td>19</td>\n",
       "    </tr>\n",
       "    <tr>\n",
       "      <th>152</th>\n",
       "      <td>Altace</td>\n",
       "      <td>2</td>\n",
       "    </tr>\n",
       "    <tr>\n",
       "      <th>483</th>\n",
       "      <td>Clarithromycin</td>\n",
       "      <td>50</td>\n",
       "    </tr>\n",
       "    <tr>\n",
       "      <th>290</th>\n",
       "      <td>Beclomethasone Dipropionate</td>\n",
       "      <td>28</td>\n",
       "    </tr>\n",
       "    <tr>\n",
       "      <th>1091</th>\n",
       "      <td>Kaopectate/Benadryl/Lido Visc.</td>\n",
       "      <td>7</td>\n",
       "    </tr>\n",
       "    <tr>\n",
       "      <th>846</th>\n",
       "      <td>GELCLAIR</td>\n",
       "      <td>7</td>\n",
       "    </tr>\n",
       "    <tr>\n",
       "      <th>786</th>\n",
       "      <td>Filgrastim</td>\n",
       "      <td>77</td>\n",
       "    </tr>\n",
       "    <tr>\n",
       "      <th>1054</th>\n",
       "      <td>Ipratropium Bromide HFA</td>\n",
       "      <td>2</td>\n",
       "    </tr>\n",
       "  </tbody>\n",
       "</table>\n",
       "</div>"
      ],
      "text/plain": [
       "                                   drug  counts\n",
       "1335                Metronidazole 0.75%       3\n",
       "303   Betamethasone Valerate 0.1% Cream       2\n",
       "1697                          Prasugrel      19\n",
       "152                              Altace       2\n",
       "483                      Clarithromycin      50\n",
       "290         Beclomethasone Dipropionate      28\n",
       "1091     Kaopectate/Benadryl/Lido Visc.       7\n",
       "846                            GELCLAIR       7\n",
       "786                          Filgrastim      77\n",
       "1054            Ipratropium Bromide HFA       2"
      ]
     },
     "execution_count": 109,
     "metadata": {},
     "output_type": "execute_result"
    }
   ],
   "source": [
    "df3.sample(10)"
   ]
  },
  {
   "cell_type": "code",
   "execution_count": 110,
   "metadata": {},
   "outputs": [],
   "source": [
    "df3 = df3.sort_values(by = 'counts', ascending = False).head(20)\n",
    "df3['percentage'] = df3.counts/len(df2.subject_id.unique())"
   ]
  },
  {
   "cell_type": "markdown",
   "metadata": {},
   "source": [
    "## Table of top 20 drugs"
   ]
  },
  {
   "cell_type": "code",
   "execution_count": 111,
   "metadata": {},
   "outputs": [
    {
     "data": {
      "text/html": [
       "<div>\n",
       "<style scoped>\n",
       "    .dataframe tbody tr th:only-of-type {\n",
       "        vertical-align: middle;\n",
       "    }\n",
       "\n",
       "    .dataframe tbody tr th {\n",
       "        vertical-align: top;\n",
       "    }\n",
       "\n",
       "    .dataframe thead th {\n",
       "        text-align: right;\n",
       "    }\n",
       "</style>\n",
       "<table border=\"1\" class=\"dataframe\">\n",
       "  <thead>\n",
       "    <tr style=\"text-align: right;\">\n",
       "      <th></th>\n",
       "      <th>drug</th>\n",
       "      <th>counts</th>\n",
       "      <th>percentage</th>\n",
       "    </tr>\n",
       "  </thead>\n",
       "  <tbody>\n",
       "    <tr>\n",
       "      <th>1033</th>\n",
       "      <td>Insulin</td>\n",
       "      <td>6644</td>\n",
       "      <td>0.961783</td>\n",
       "    </tr>\n",
       "    <tr>\n",
       "      <th>1867</th>\n",
       "      <td>Sodium Chloride 0.9%  Flush</td>\n",
       "      <td>5962</td>\n",
       "      <td>0.863057</td>\n",
       "    </tr>\n",
       "    <tr>\n",
       "      <th>81</th>\n",
       "      <td>Acetaminophen</td>\n",
       "      <td>5727</td>\n",
       "      <td>0.829039</td>\n",
       "    </tr>\n",
       "    <tr>\n",
       "      <th>1684</th>\n",
       "      <td>Potassium Chloride</td>\n",
       "      <td>5590</td>\n",
       "      <td>0.809207</td>\n",
       "    </tr>\n",
       "    <tr>\n",
       "      <th>1249</th>\n",
       "      <td>Magnesium Sulfate</td>\n",
       "      <td>5275</td>\n",
       "      <td>0.763607</td>\n",
       "    </tr>\n",
       "    <tr>\n",
       "      <th>671</th>\n",
       "      <td>Docusate Sodium</td>\n",
       "      <td>4901</td>\n",
       "      <td>0.709467</td>\n",
       "    </tr>\n",
       "    <tr>\n",
       "      <th>918</th>\n",
       "      <td>Heparin</td>\n",
       "      <td>4859</td>\n",
       "      <td>0.703387</td>\n",
       "    </tr>\n",
       "    <tr>\n",
       "      <th>844</th>\n",
       "      <td>Furosemide</td>\n",
       "      <td>4729</td>\n",
       "      <td>0.684569</td>\n",
       "    </tr>\n",
       "    <tr>\n",
       "      <th>566</th>\n",
       "      <td>D5W</td>\n",
       "      <td>4530</td>\n",
       "      <td>0.655761</td>\n",
       "    </tr>\n",
       "    <tr>\n",
       "      <th>1063</th>\n",
       "      <td>Iso-Osmotic Dextrose</td>\n",
       "      <td>4459</td>\n",
       "      <td>0.645483</td>\n",
       "    </tr>\n",
       "    <tr>\n",
       "      <th>1383</th>\n",
       "      <td>Morphine Sulfate</td>\n",
       "      <td>4334</td>\n",
       "      <td>0.627389</td>\n",
       "    </tr>\n",
       "    <tr>\n",
       "      <th>1424</th>\n",
       "      <td>NS</td>\n",
       "      <td>4113</td>\n",
       "      <td>0.595397</td>\n",
       "    </tr>\n",
       "    <tr>\n",
       "      <th>1825</th>\n",
       "      <td>SW</td>\n",
       "      <td>4110</td>\n",
       "      <td>0.594962</td>\n",
       "    </tr>\n",
       "    <tr>\n",
       "      <th>383</th>\n",
       "      <td>Calcium Gluconate</td>\n",
       "      <td>4037</td>\n",
       "      <td>0.584395</td>\n",
       "    </tr>\n",
       "    <tr>\n",
       "      <th>235</th>\n",
       "      <td>Aspirin</td>\n",
       "      <td>3990</td>\n",
       "      <td>0.577591</td>\n",
       "    </tr>\n",
       "    <tr>\n",
       "      <th>314</th>\n",
       "      <td>Bisacodyl</td>\n",
       "      <td>3929</td>\n",
       "      <td>0.568761</td>\n",
       "    </tr>\n",
       "    <tr>\n",
       "      <th>1842</th>\n",
       "      <td>Senna</td>\n",
       "      <td>3693</td>\n",
       "      <td>0.534598</td>\n",
       "    </tr>\n",
       "    <tr>\n",
       "      <th>1593</th>\n",
       "      <td>Pantoprazole</td>\n",
       "      <td>3658</td>\n",
       "      <td>0.529531</td>\n",
       "    </tr>\n",
       "    <tr>\n",
       "      <th>621</th>\n",
       "      <td>Dextrose 50%</td>\n",
       "      <td>3628</td>\n",
       "      <td>0.525188</td>\n",
       "    </tr>\n",
       "    <tr>\n",
       "      <th>42</th>\n",
       "      <td>0.9% Sodium Chloride</td>\n",
       "      <td>3095</td>\n",
       "      <td>0.448031</td>\n",
       "    </tr>\n",
       "  </tbody>\n",
       "</table>\n",
       "</div>"
      ],
      "text/plain": [
       "                             drug  counts  percentage\n",
       "1033                      Insulin    6644    0.961783\n",
       "1867  Sodium Chloride 0.9%  Flush    5962    0.863057\n",
       "81                  Acetaminophen    5727    0.829039\n",
       "1684           Potassium Chloride    5590    0.809207\n",
       "1249            Magnesium Sulfate    5275    0.763607\n",
       "671               Docusate Sodium    4901    0.709467\n",
       "918                       Heparin    4859    0.703387\n",
       "844                    Furosemide    4729    0.684569\n",
       "566                           D5W    4530    0.655761\n",
       "1063         Iso-Osmotic Dextrose    4459    0.645483\n",
       "1383             Morphine Sulfate    4334    0.627389\n",
       "1424                           NS    4113    0.595397\n",
       "1825                           SW    4110    0.594962\n",
       "383             Calcium Gluconate    4037    0.584395\n",
       "235                       Aspirin    3990    0.577591\n",
       "314                     Bisacodyl    3929    0.568761\n",
       "1842                        Senna    3693    0.534598\n",
       "1593                 Pantoprazole    3658    0.529531\n",
       "621                  Dextrose 50%    3628    0.525188\n",
       "42           0.9% Sodium Chloride    3095    0.448031"
      ]
     },
     "execution_count": 111,
     "metadata": {},
     "output_type": "execute_result"
    }
   ],
   "source": [
    "df3"
   ]
  },
  {
   "cell_type": "markdown",
   "metadata": {},
   "source": [
    "## 4. Open choice query\n",
    "See directions in the assignment specification. Explain your query (briefly) in this mark-down cell, and provide your answer below.  \n",
    "In our paper https://www.ncbi.nlm.nih.gov/pmc/articles/PMC4975403/ about Predictive Big Data Analytics: A Study of Parkinson’s Disease Using Large, Complex, Heterogeneous, Incongruent, Multi-Source and Incomplete Observations exploration on big data\n",
    "\n",
    "The paper aims to utilize big data analytics for Parkinson’s disease, where it is collected and managed by Parkinson’s Progression Markers Initiative (PPMI). Previous studies have examined the relationship of the disease and risk to trauma, genetics, environment, or lifestyle, and Prof. Draganski’s team have integrated complex PPMI imaging, genetics, and clinical/demographic data. The paper emphasizes the collection of data of multiple sources to encompass the defining characteristics of Big Data, which include large size, incongruency, incompleteness, complexity, multiplicity of scales, and heterogeneity of data. Data characterization in this paper is uniquely spread into 3 main concepts: introduction of new methods for rebalancing data, use of wide classification methods for consistent phenotype predictions, and generate reproducible machine-learning classification that can incorporate new data as well as application for other neurodegenerative disorders. \n",
    "\n",
    "Because the Mimic database contains highly specific data to the ICU, a lot of the data necessary to pursue the analytics described in the paper is not available. In the paper there was exploratory analysis done on gender and their implications on past studies on parkinson's. The analysis from the paper proved that gender had negligible implications on getting Parkinson's. Using the mimic database, we queried the distribution of gender amongst admitted parkison's patients, and we analyzed the death rate of parkison's patients in male and female patients. Although a more interesting query could be made with the age of the patients, because of the complicance to HIPPA, the age for many of the patients is altered for the sake of patient privacy. Due to this, analysis based on age would prove to be very difficult, especially since the population of patients with Parkinson's would be around the 89 year age which is in the age range of many parkison's patients given that Parkison's is a disease that affects 1 in every 100 people over 60 years of age and parkison's patients have a lifespan of around 10-20 years after diagnosis. We figured that the variable 'expire_flag' would serve as a makeshift variable that could be indicative of age, operating under the assumption that most parkison's patients die when they are more senior without factoring in the possibilities of early onset Parkinson's, and other reason's for death. "
   ]
  },
  {
   "cell_type": "code",
   "execution_count": 113,
   "metadata": {},
   "outputs": [],
   "source": [
    "# youe answer here\n",
    "sql_5 = \"SELECT * FROM mimic_iii.patients\"\n",
    "patients = pd.read_sql_query(sql_5, conn)"
   ]
  },
  {
   "cell_type": "code",
   "execution_count": 147,
   "metadata": {},
   "outputs": [
    {
     "data": {
      "text/html": [
       "<div>\n",
       "<style scoped>\n",
       "    .dataframe tbody tr th:only-of-type {\n",
       "        vertical-align: middle;\n",
       "    }\n",
       "\n",
       "    .dataframe tbody tr th {\n",
       "        vertical-align: top;\n",
       "    }\n",
       "\n",
       "    .dataframe thead th {\n",
       "        text-align: right;\n",
       "    }\n",
       "</style>\n",
       "<table border=\"1\" class=\"dataframe\">\n",
       "  <thead>\n",
       "    <tr style=\"text-align: right;\">\n",
       "      <th></th>\n",
       "      <th>row_id</th>\n",
       "      <th>subject_id</th>\n",
       "      <th>gender</th>\n",
       "      <th>dob</th>\n",
       "      <th>dod</th>\n",
       "      <th>dod_hosp</th>\n",
       "      <th>dod_ssn</th>\n",
       "      <th>expire_flag</th>\n",
       "    </tr>\n",
       "  </thead>\n",
       "  <tbody>\n",
       "    <tr>\n",
       "      <th>18247</th>\n",
       "      <td>16656</td>\n",
       "      <td>17615</td>\n",
       "      <td>M</td>\n",
       "      <td>2178-08-14</td>\n",
       "      <td>NaT</td>\n",
       "      <td>NaT</td>\n",
       "      <td>NaT</td>\n",
       "      <td>0</td>\n",
       "    </tr>\n",
       "    <tr>\n",
       "      <th>43305</th>\n",
       "      <td>42597</td>\n",
       "      <td>84885</td>\n",
       "      <td>M</td>\n",
       "      <td>2037-11-06</td>\n",
       "      <td>NaT</td>\n",
       "      <td>NaT</td>\n",
       "      <td>NaT</td>\n",
       "      <td>0</td>\n",
       "    </tr>\n",
       "    <tr>\n",
       "      <th>2906</th>\n",
       "      <td>3945</td>\n",
       "      <td>4174</td>\n",
       "      <td>M</td>\n",
       "      <td>2148-02-02</td>\n",
       "      <td>NaT</td>\n",
       "      <td>NaT</td>\n",
       "      <td>NaT</td>\n",
       "      <td>0</td>\n",
       "    </tr>\n",
       "    <tr>\n",
       "      <th>22061</th>\n",
       "      <td>28644</td>\n",
       "      <td>30475</td>\n",
       "      <td>M</td>\n",
       "      <td>2097-06-23</td>\n",
       "      <td>NaT</td>\n",
       "      <td>NaT</td>\n",
       "      <td>NaT</td>\n",
       "      <td>0</td>\n",
       "    </tr>\n",
       "    <tr>\n",
       "      <th>24185</th>\n",
       "      <td>36695</td>\n",
       "      <td>62345</td>\n",
       "      <td>M</td>\n",
       "      <td>2056-08-21</td>\n",
       "      <td>2122-09-25</td>\n",
       "      <td>2122-09-25</td>\n",
       "      <td>2122-09-25</td>\n",
       "      <td>1</td>\n",
       "    </tr>\n",
       "    <tr>\n",
       "      <th>35709</th>\n",
       "      <td>32410</td>\n",
       "      <td>46208</td>\n",
       "      <td>F</td>\n",
       "      <td>2117-02-04</td>\n",
       "      <td>2177-10-29</td>\n",
       "      <td>NaT</td>\n",
       "      <td>2177-10-29</td>\n",
       "      <td>1</td>\n",
       "    </tr>\n",
       "    <tr>\n",
       "      <th>37867</th>\n",
       "      <td>46139</td>\n",
       "      <td>98555</td>\n",
       "      <td>M</td>\n",
       "      <td>2113-01-18</td>\n",
       "      <td>NaT</td>\n",
       "      <td>NaT</td>\n",
       "      <td>NaT</td>\n",
       "      <td>0</td>\n",
       "    </tr>\n",
       "    <tr>\n",
       "      <th>18243</th>\n",
       "      <td>16652</td>\n",
       "      <td>17611</td>\n",
       "      <td>M</td>\n",
       "      <td>2187-12-22</td>\n",
       "      <td>NaT</td>\n",
       "      <td>NaT</td>\n",
       "      <td>NaT</td>\n",
       "      <td>0</td>\n",
       "    </tr>\n",
       "    <tr>\n",
       "      <th>15159</th>\n",
       "      <td>15222</td>\n",
       "      <td>16100</td>\n",
       "      <td>M</td>\n",
       "      <td>2102-08-15</td>\n",
       "      <td>NaT</td>\n",
       "      <td>NaT</td>\n",
       "      <td>NaT</td>\n",
       "      <td>0</td>\n",
       "    </tr>\n",
       "    <tr>\n",
       "      <th>6376</th>\n",
       "      <td>6086</td>\n",
       "      <td>6429</td>\n",
       "      <td>F</td>\n",
       "      <td>2114-12-27</td>\n",
       "      <td>NaT</td>\n",
       "      <td>NaT</td>\n",
       "      <td>NaT</td>\n",
       "      <td>0</td>\n",
       "    </tr>\n",
       "  </tbody>\n",
       "</table>\n",
       "</div>"
      ],
      "text/plain": [
       "       row_id  subject_id gender        dob        dod   dod_hosp    dod_ssn  \\\n",
       "18247   16656       17615      M 2178-08-14        NaT        NaT        NaT   \n",
       "43305   42597       84885      M 2037-11-06        NaT        NaT        NaT   \n",
       "2906     3945        4174      M 2148-02-02        NaT        NaT        NaT   \n",
       "22061   28644       30475      M 2097-06-23        NaT        NaT        NaT   \n",
       "24185   36695       62345      M 2056-08-21 2122-09-25 2122-09-25 2122-09-25   \n",
       "35709   32410       46208      F 2117-02-04 2177-10-29        NaT 2177-10-29   \n",
       "37867   46139       98555      M 2113-01-18        NaT        NaT        NaT   \n",
       "18243   16652       17611      M 2187-12-22        NaT        NaT        NaT   \n",
       "15159   15222       16100      M 2102-08-15        NaT        NaT        NaT   \n",
       "6376     6086        6429      F 2114-12-27        NaT        NaT        NaT   \n",
       "\n",
       "       expire_flag  \n",
       "18247            0  \n",
       "43305            0  \n",
       "2906             0  \n",
       "22061            0  \n",
       "24185            1  \n",
       "35709            1  \n",
       "37867            0  \n",
       "18243            0  \n",
       "15159            0  \n",
       "6376             0  "
      ]
     },
     "execution_count": 147,
     "metadata": {},
     "output_type": "execute_result"
    }
   ],
   "source": [
    "patients.sample(10)"
   ]
  },
  {
   "cell_type": "code",
   "execution_count": 118,
   "metadata": {},
   "outputs": [],
   "source": [
    "park = diag_icd.loc[diag_icd.icd9_code == '3320']\n",
    "sub_id = park.subject_id.unique()"
   ]
  },
  {
   "cell_type": "code",
   "execution_count": 121,
   "metadata": {},
   "outputs": [
    {
     "data": {
      "text/plain": [
       "397"
      ]
     },
     "execution_count": 121,
     "metadata": {},
     "output_type": "execute_result"
    }
   ],
   "source": [
    "len(sub_id)"
   ]
  },
  {
   "cell_type": "code",
   "execution_count": 122,
   "metadata": {},
   "outputs": [],
   "source": [
    "park_pat = patients.loc[patients.subject_id.isin(sub_id)]"
   ]
  },
  {
   "cell_type": "code",
   "execution_count": 135,
   "metadata": {},
   "outputs": [
    {
     "name": "stdout",
     "output_type": "stream",
     "text": [
      "['F' 'M']\n",
      "[143 254]\n"
     ]
    }
   ],
   "source": [
    "gender,counts1 = np.unique(np.array(park_pat.gender), return_counts = True)\n",
    "print(gender)\n",
    "print(counts1)"
   ]
  },
  {
   "cell_type": "code",
   "execution_count": 137,
   "metadata": {},
   "outputs": [
    {
     "name": "stdout",
     "output_type": "stream",
     "text": [
      "[0 1]\n",
      "[137 260]\n"
     ]
    }
   ],
   "source": [
    "expire, counts2 = np.unique(np.array(park_pat.expire_flag), return_counts = True)\n",
    "print(expire)\n",
    "print(counts2)"
   ]
  },
  {
   "cell_type": "code",
   "execution_count": 139,
   "metadata": {},
   "outputs": [],
   "source": [
    "female = park_pat.loc[park_pat.gender == 'F']\n",
    "male = park_pat.loc[park_pat.gender == 'M']"
   ]
  },
  {
   "cell_type": "code",
   "execution_count": 144,
   "metadata": {},
   "outputs": [],
   "source": [
    "expire1, counts3 = np.unique(np.array(female.expire_flag), return_counts = True)\n",
    "expire2, counts4 = np.unique(np.array(male.expire_flag), return_counts = True)"
   ]
  },
  {
   "cell_type": "code",
   "execution_count": 146,
   "metadata": {},
   "outputs": [
    {
     "name": "stdout",
     "output_type": "stream",
     "text": [
      "[52 91]\n",
      "[ 85 169]\n"
     ]
    }
   ],
   "source": [
    "print(counts3)\n",
    "print(counts4)"
   ]
  },
  {
   "cell_type": "markdown",
   "metadata": {},
   "source": [
    "the above matrix signifies the number of deaths in each gender for patients with parkinsons. \n",
    "by row: [alive, dead]; by column: [female, male]"
   ]
  },
  {
   "cell_type": "markdown",
   "metadata": {},
   "source": [
    "## Close the connection\n",
    "\n",
    "Once you're done with your work, close the connection to the database, and remember to save your work!"
   ]
  },
  {
   "cell_type": "code",
   "execution_count": 42,
   "metadata": {},
   "outputs": [],
   "source": [
    "cur.close()\n",
    "conn.close()"
   ]
  }
 ],
 "metadata": {
  "kernelspec": {
   "display_name": "Python 3",
   "language": "python",
   "name": "python3"
  },
  "language_info": {
   "codemirror_mode": {
    "name": "ipython",
    "version": 3
   },
   "file_extension": ".py",
   "mimetype": "text/x-python",
   "name": "python",
   "nbconvert_exporter": "python",
   "pygments_lexer": "ipython3",
   "version": "3.7.0"
  }
 },
 "nbformat": 4,
 "nbformat_minor": 2
}
