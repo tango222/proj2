{
 "cells": [
  {
   "cell_type": "markdown",
   "metadata": {},
   "source": [
    "## Details: The open-ended query\n",
    "For the open-ended query, I would like you and your teammate to imagine carrying out some more sophisticated analysis of the patient data, perhaps as part of developing a predictive model. This part of the assignment is closely related to the reading on \"Big Data in Health Care\" that is due on May 1st. \n",
    "A predictive model is created by analyzing retrospective data to create a model that can be used prospectively, e.g., to predict when a patient that is being discharged is at high risk of being re-admitted soon. Creating predictive models is way out-of-scope for this introductory class. However, to create any of these models, one must first collect data and select those attributes that are likely to be relevant to problem at hand. \n",
    "To create an interesting open ended query, your team must read (and report on--see below) one primary literature article that uses data analytics to solve a real-world problem. To find these sorts of articles, please use\n",
    "the Systematic Review of Healthcare Analytics.  This articles is a very structured survey of the field, and there are two section I would like you to focus on. In section 4.1, the authors describe citations 40-76 -- these are mostly papers that describe predictive models, and they are organized by disease.  For example, citation 51 is a paper aiming to predict type 2 diabetes risk -- given patient data, how likely is the patient to develop diabetes? \n",
    "You may also use citations from section 4.2.2, which describes papers that use data analytics in more administrative settings. Please focus on those paper that aim to reduce cost or improve quality or resource use: citations 95-104. \n",
    "Sections 4.1 and 4.2 also summarize some of the key data elements used in these research papers. For example, the survey describes citation 41 as using data such as \"heart rate, glucose level, body mass index, creatinine level, cholesterol level,...\" So the task is to create a query that retrieves as many of these as possible.  In most cases, the MIMIC-III database will not contain all of information needed. So your query will only be a partial stepping stone toward the type of analytics described in the research paper. In your essay (below) you must connect the paper to your open-ended query, and explain to what extend your query provides the needed data. "
   ]
  }
 ],
 "metadata": {
  "kernelspec": {
   "display_name": "Python 3",
   "language": "python",
   "name": "python3"
  },
  "language_info": {
   "codemirror_mode": {
    "name": "ipython",
    "version": 3
   },
   "file_extension": ".py",
   "mimetype": "text/x-python",
   "name": "python",
   "nbconvert_exporter": "python",
   "pygments_lexer": "ipython3",
   "version": "3.7.0"
  }
 },
 "nbformat": 4,
 "nbformat_minor": 2
}
